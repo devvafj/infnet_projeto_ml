{
 "cells": [
  {
   "cell_type": "markdown",
   "id": "8846f562",
   "metadata": {},
   "source": [
    "### Instalando e importando bibliotecas"
   ]
  },
  {
   "cell_type": "code",
   "execution_count": 1,
   "id": "1f7a2a56",
   "metadata": {},
   "outputs": [
    {
     "name": "stdout",
     "output_type": "stream",
     "text": [
      "Requirement already satisfied: pyspark in c:\\users\\vandinho\\anaconda3\\lib\\site-packages (3.5.0)\n",
      "Requirement already satisfied: py4j==0.10.9.7 in c:\\users\\vandinho\\anaconda3\\lib\\site-packages (from pyspark) (0.10.9.7)\n"
     ]
    }
   ],
   "source": [
    "!pip install pyspark"
   ]
  },
  {
   "cell_type": "code",
   "execution_count": 2,
   "id": "8b89c842",
   "metadata": {},
   "outputs": [],
   "source": [
    "from pyspark.sql import SparkSession\n",
    "from pyspark.sql.functions import *"
   ]
  },
  {
   "cell_type": "markdown",
   "id": "e55709cd",
   "metadata": {},
   "source": [
    "### Definindo variáveis de path e nomes de arquivos dos datasets"
   ]
  },
  {
   "cell_type": "code",
   "execution_count": 3,
   "id": "37fb9d30",
   "metadata": {},
   "outputs": [],
   "source": [
    "input_path=\"C:\\\\Users\\\\Vandinho\\\\Documents\\\\Tecnologia\\\\Pos_BigData\\\\8_Analise_Spark\\\\infnet_projeto_hadoop\\\\input\"\n",
    "output_path=\"C:\\\\Users\\\\Vandinho\\\\Documents\\\\Tecnologia\\\\Pos_BigData\\\\8_Analise_Spark\\\\infnet_projeto_hadoop\\\\output\""
   ]
  },
  {
   "cell_type": "code",
   "execution_count": 4,
   "id": "fa653c68",
   "metadata": {},
   "outputs": [],
   "source": [
    "digimon=\"Digimon.csv\"\n",
    "digivolutions=\"Digivolutions.csv\"\n",
    "skills=\"Skills.csv\"\n",
    "skills_by=\"Skills_by_Digimon.csv\""
   ]
  },
  {
   "cell_type": "markdown",
   "id": "23c8f8f0",
   "metadata": {},
   "source": [
    "### Inicializando uma sessão do Spark"
   ]
  },
  {
   "cell_type": "code",
   "execution_count": 5,
   "id": "afb367a2",
   "metadata": {},
   "outputs": [],
   "source": [
    "spark = SparkSession.builder.appName(\"Analise_Hadoop_PySpark\").getOrCreate()"
   ]
  },
  {
   "cell_type": "markdown",
   "id": "d38a9c3a",
   "metadata": {},
   "source": [
    "### Pré-processamento"
   ]
  },
  {
   "cell_type": "markdown",
   "id": "dd8a57e7",
   "metadata": {},
   "source": [
    "### Digimon: Somente remover cabeçalho"
   ]
  },
  {
   "cell_type": "code",
   "execution_count": 59,
   "id": "53c2d6fb",
   "metadata": {},
   "outputs": [
    {
     "name": "stdout",
     "output_type": "stream",
     "text": [
      "+------+-------+-----+----+---------+------+-----------+--------+--------+---------+---------+---------+---------+---------+---------+----------+----------+----------+----------+---------+---------+----------+----------+----------+----------+\n",
      "|Number|Digimon|Stage|Type|Attribute|Memory|Equip Slots|HP_lvl_1|SP_lvl_1|ATK_lvl_1|DEF_lvl_1|INT_lvl_1|SPD_lvl_1|HP_lvl_50|SP_lvl_50|ATK_lvl_50|DEF_lvl_50|INT_lvl_50|SPD_lvl_50|HP_lvl_99|SP_lvl_99|ATK_lvl_99|DEF_lvl_99|INT_lvl_99|SPD_lvl_99|\n",
      "+------+-------+-----+----+---------+------+-----------+--------+--------+---------+---------+---------+---------+---------+---------+----------+----------+----------+----------+---------+---------+----------+----------+----------+----------+\n",
      "|     1|Kuramon| Baby|Free|  Neutral|     2|          0|     150|      24|       30|       20|       19|       32|      590|       77|        79|        69|        68|        95|     1030|      131|       128|       118|       117|       159|\n",
      "|     2|Pabumon| Baby|Free|  Neutral|     2|          0|     320|      18|       23|       23|       20|       24|      950|       62|        76|        76|        69|        68|     1590|      106|       130|       130|       118|       112|\n",
      "|     3|Punimon| Baby|Free|  Neutral|     2|          0|     290|      11|       34|       29|       11|       26|      870|       50|        97|        87|        50|        75|     1460|       89|       161|       146|        89|       124|\n",
      "|     4|Botamon| Baby|Free|  Neutral|     2|          0|     200|      19|       24|       32|       23|       22|      690|       68|        77|        95|        76|        61|     1180|      117|       131|       159|       130|       100|\n",
      "|     5|Poyomon| Baby|Free|  Neutral|     2|          0|     150|      35|       15|       15|       32|       28|      540|       98|        54|        59|        95|        86|      930|      162|        93|       103|       159|       145|\n",
      "+------+-------+-----+----+---------+------+-----------+--------+--------+---------+---------+---------+---------+---------+---------+----------+----------+----------+----------+---------+---------+----------+----------+----------+----------+\n",
      "only showing top 5 rows\n",
      "\n"
     ]
    }
   ],
   "source": [
    "df_digimon = spark.read \\\n",
    "    .option(\"delimiter\", \";\") \\\n",
    "    .csv(f\"{input_path}\\\\{digimon}\", header='true', inferSchema=True)\n",
    "\n",
    "df_digimon = df_digimon \\\n",
    "    .withColumnRenamed(\"HP lvl 1\", \"HP_lvl_1\") \\\n",
    "    .withColumnRenamed(\"SP lvl 1\", \"SP_lvl_1\") \\\n",
    "    .withColumnRenamed(\"ATK lvl 1\", \"ATK_lvl_1\") \\\n",
    "    .withColumnRenamed(\"DEF lvl 1\", \"DEF_lvl_1\") \\\n",
    "    .withColumnRenamed(\"INT lvl 1\", \"INT_lvl_1\") \\\n",
    "    .withColumnRenamed(\"SPD lvl 1\", \"SPD_lvl_1\") \\\n",
    "    .withColumnRenamed(\"HP lvl 50\", \"HP_lvl_50\") \\\n",
    "    .withColumnRenamed(\"SP lvl 50\", \"SP_lvl_50\") \\\n",
    "    .withColumnRenamed(\"ATK lvl 50\", \"ATK_lvl_50\") \\\n",
    "    .withColumnRenamed(\"DEF lvl 50\", \"DEF_lvl_50\") \\\n",
    "    .withColumnRenamed(\"INT lvl 50\", \"INT_lvl_50\") \\\n",
    "    .withColumnRenamed(\"SPD lvl 50\", \"SPD_lvl_50\") \\\n",
    "    .withColumnRenamed(\"HP lvl 99\", \"HP_lvl_99\") \\\n",
    "    .withColumnRenamed(\"SP lvl 99\", \"SP_lvl_99\") \\\n",
    "    .withColumnRenamed(\"ATK lvl 99\", \"ATK_lvl_99\") \\\n",
    "    .withColumnRenamed(\"DEF lvl 99\", \"DEF_lvl_99\") \\\n",
    "    .withColumnRenamed(\"INT lvl 99\", \"INT_lvl_99\") \\\n",
    "    .withColumnRenamed(\"SPD lvl 99\", \"SPD_lvl_99\")\n",
    "\n",
    "df_digimon.show(5)"
   ]
  },
  {
   "cell_type": "code",
   "execution_count": 18,
   "id": "39e79618",
   "metadata": {},
   "outputs": [
    {
     "name": "stdout",
     "output_type": "stream",
     "text": [
      "Digimons - Tamanho: 341\n"
     ]
    }
   ],
   "source": [
    "print(f\"Digimons - Tamanho: {df_digimon.count()}\")"
   ]
  },
  {
   "cell_type": "code",
   "execution_count": 11,
   "id": "55953f22",
   "metadata": {
    "scrolled": true
   },
   "outputs": [
    {
     "name": "stdout",
     "output_type": "stream",
     "text": [
      "root\n",
      " |-- Number: integer (nullable = true)\n",
      " |-- Digimon: string (nullable = true)\n",
      " |-- Stage: string (nullable = true)\n",
      " |-- Type: string (nullable = true)\n",
      " |-- Attribute: string (nullable = true)\n",
      " |-- Memory: integer (nullable = true)\n",
      " |-- Equip Slots: integer (nullable = true)\n",
      " |-- HP lvl 1: integer (nullable = true)\n",
      " |-- SP lvl 1: integer (nullable = true)\n",
      " |-- ATK lvl 1: integer (nullable = true)\n",
      " |-- DEF lvl 1: integer (nullable = true)\n",
      " |-- INT lvl 1: integer (nullable = true)\n",
      " |-- SPD lvl 1: integer (nullable = true)\n",
      " |-- HP lvl 50: integer (nullable = true)\n",
      " |-- SP lvl 50: integer (nullable = true)\n",
      " |-- ATK lvl 50: integer (nullable = true)\n",
      " |-- DEF lvl 50: integer (nullable = true)\n",
      " |-- INT lvl 50: integer (nullable = true)\n",
      " |-- SPD lvl 50: integer (nullable = true)\n",
      " |-- HP lvl 99: integer (nullable = true)\n",
      " |-- SP lvl 99: integer (nullable = true)\n",
      " |-- ATK lvl 99: integer (nullable = true)\n",
      " |-- DEF lvl 99: integer (nullable = true)\n",
      " |-- INT lvl 99: integer (nullable = true)\n",
      " |-- SPD lvl 99: integer (nullable = true)\n",
      "\n"
     ]
    }
   ],
   "source": [
    "df_digimon.printSchema()"
   ]
  },
  {
   "cell_type": "markdown",
   "id": "0e7486fe",
   "metadata": {},
   "source": [
    "### Digivolutions"
   ]
  },
  {
   "cell_type": "code",
   "execution_count": 40,
   "id": "eacb902e",
   "metadata": {},
   "outputs": [
    {
     "name": "stdout",
     "output_type": "stream",
     "text": [
      "+------+---------------+-----------------+\n",
      "|Number|Digivolves_from|    Digivolves_to|\n",
      "+------+---------------+-----------------+\n",
      "|     1|        Kuramon|         Tsumemon|\n",
      "|     1|        Kuramon|          Pagumon|\n",
      "|     1|        Kuramon|Arcadiamon In-Tr.|\n",
      "|     2|        Pabumon|          Tanemon|\n",
      "|     2|        Pabumon|          Yokomon|\n",
      "+------+---------------+-----------------+\n",
      "only showing top 5 rows\n",
      "\n"
     ]
    }
   ],
   "source": [
    "df_digivolutions = spark.read \\\n",
    "    .option(\"delimiter\", \";\") \\\n",
    "    .csv(f\"{input_path}\\\\{digivolutions}\", header='true', inferSchema=True)\n",
    "\n",
    "df_digivolutions = df_digivolutions \\\n",
    "    .withColumnRenamed(\"Digivolves from\", \"Digivolves_from\") \\\n",
    "    .withColumnRenamed(\"Digivolves to\", \"Digivolves_to\")\n",
    "\n",
    "df_digivolutions.show(5)"
   ]
  },
  {
   "cell_type": "code",
   "execution_count": 41,
   "id": "3f5a3cc3",
   "metadata": {},
   "outputs": [
    {
     "name": "stdout",
     "output_type": "stream",
     "text": [
      "Digivolutions - Tamanho antes da limpeza: 998\n"
     ]
    }
   ],
   "source": [
    "print(f\"Digivolutions - Tamanho antes da limpeza: {df_digivolutions.count()}\")"
   ]
  },
  {
   "cell_type": "code",
   "execution_count": 42,
   "id": "d4b068ed",
   "metadata": {},
   "outputs": [
    {
     "name": "stdout",
     "output_type": "stream",
     "text": [
      "Digivolutions - Tamanho após da limpeza: 996\n"
     ]
    }
   ],
   "source": [
    "df_digivolutions = df_digivolutions.dropna(how=\"all\")\n",
    "\n",
    "print(f\"Digivolutions - Tamanho após da limpeza: {df_digivolutions.count()}\")"
   ]
  },
  {
   "cell_type": "markdown",
   "id": "c4706a33",
   "metadata": {},
   "source": [
    "### Skills: Somente remover cabeçalho"
   ]
  },
  {
   "cell_type": "code",
   "execution_count": 69,
   "id": "48f536cd",
   "metadata": {},
   "outputs": [
    {
     "name": "stdout",
     "output_type": "stream",
     "text": [
      "+--------------------+-------+--------+-----+---------+-----------+--------------------+\n",
      "|               Skill|SP_Cost|    Type|Power|Attribute|Inheritable|         Description|\n",
      "+--------------------+-------+--------+-----+---------+-----------+--------------------+\n",
      "|  Acceleration Boost|      6| Support|    0|  Neutral|        Yes|Doubles damage ou...|\n",
      "|Adhesive Bubble Blow|      2|Physical|   25|    Plant|         No|Physical attack, ...|\n",
      "|      Agility Charge|      6| Support|    0|  Neutral|        Yes|Increases EVA of ...|\n",
      "|    Aguichant Levres|     40|   Magic|    0|    Light|         No|INT-penetrating s...|\n",
      "|         Air Bubbles|      2|   Magic|   30|    Water|         No|Magic attack, 30 ...|\n",
      "+--------------------+-------+--------+-----+---------+-----------+--------------------+\n",
      "only showing top 5 rows\n",
      "\n"
     ]
    }
   ],
   "source": [
    "df_skills = spark.read \\\n",
    "    .option(\"delimiter\", \";\") \\\n",
    "    .csv(f\"{input_path}\\\\{skills}\", header='true', inferSchema=True)\n",
    "\n",
    "df_skills = df_skills \\\n",
    "    .withColumnRenamed(\"SP Cost\", \"SP_Cost\")\n",
    "\n",
    "df_skills.show(5)"
   ]
  },
  {
   "cell_type": "code",
   "execution_count": 22,
   "id": "49c903f7",
   "metadata": {},
   "outputs": [
    {
     "name": "stdout",
     "output_type": "stream",
     "text": [
      "Skills - Tamanho: 505\n"
     ]
    }
   ],
   "source": [
    "print(f\"Skills - Tamanho: {df_skills.count()}\")"
   ]
  },
  {
   "cell_type": "markdown",
   "id": "a716aae4",
   "metadata": {},
   "source": [
    "### Skills by Digimon"
   ]
  },
  {
   "cell_type": "code",
   "execution_count": 24,
   "id": "dcdc99ac",
   "metadata": {},
   "outputs": [
    {
     "name": "stdout",
     "output_type": "stream",
     "text": [
      "+------+-------+--------------------+-----+\n",
      "|Number|Digimon|               Skill|Level|\n",
      "+------+-------+--------------------+-----+\n",
      "|     1|Kuramon|           Glare Eye|    1|\n",
      "|     2|Pabumon|Adhesive Bubble Blow|    1|\n",
      "|     3|Punimon|         Bubble Blow|    1|\n",
      "|     4|Botamon|         Bubble Blow|    1|\n",
      "|     5|Poyomon|   Super Bubble Blow|    1|\n",
      "+------+-------+--------------------+-----+\n",
      "only showing top 5 rows\n",
      "\n"
     ]
    }
   ],
   "source": [
    "df_skills_by = spark.read \\\n",
    "    .option(\"delimiter\", \";\") \\\n",
    "    .csv(f\"{input_path}\\\\{skills_by}\", header='true', inferSchema=True)\n",
    "\n",
    "df_skills_by.show(5)"
   ]
  },
  {
   "cell_type": "markdown",
   "id": "60520869",
   "metadata": {},
   "source": [
    "### Tratamento: Algumas linhas relativas ao digimon Coredramon (Blue) estão nulas na coluna 'Number', observe:"
   ]
  },
  {
   "cell_type": "code",
   "execution_count": 27,
   "id": "dc3ee2d5",
   "metadata": {},
   "outputs": [
    {
     "name": "stdout",
     "output_type": "stream",
     "text": [
      "+------+\n",
      "|Number|\n",
      "+------+\n",
      "|    96|\n",
      "|    96|\n",
      "|      |\n",
      "|      |\n",
      "+------+\n",
      "\n"
     ]
    }
   ],
   "source": [
    "df_skills_by.filter(df_skills_by[\"Digimon\"] == \"Coredramon (Blue)\").select(\"Number\").show()"
   ]
  },
  {
   "cell_type": "markdown",
   "id": "ef7e150e",
   "metadata": {},
   "source": [
    "### Vamos preenche-la com o número correto do digimon, que é 96, conforme as outras linhas"
   ]
  },
  {
   "cell_type": "code",
   "execution_count": 29,
   "id": "40bb7df5",
   "metadata": {},
   "outputs": [],
   "source": [
    "df_skills_by = df_skills_by \\\n",
    "    .withColumn(\"Number\", when(df_skills_by[\"Digimon\"] == \"Coredramon (Blue)\", 96) \\\n",
    "    .otherwise(df_skills_by[\"Number\"]))"
   ]
  },
  {
   "cell_type": "markdown",
   "id": "ce72f591",
   "metadata": {},
   "source": [
    "### Confirmando que o preenchimento da coluna foi feito"
   ]
  },
  {
   "cell_type": "code",
   "execution_count": 30,
   "id": "cdee71df",
   "metadata": {
    "scrolled": true
   },
   "outputs": [
    {
     "name": "stdout",
     "output_type": "stream",
     "text": [
      "+------+\n",
      "|Number|\n",
      "+------+\n",
      "|    96|\n",
      "|    96|\n",
      "|    96|\n",
      "|    96|\n",
      "+------+\n",
      "\n"
     ]
    }
   ],
   "source": [
    "df_skills_by.filter(df_skills_by[\"Digimon\"] == \"Coredramon (Blue)\").select(\"Number\").show()"
   ]
  },
  {
   "cell_type": "markdown",
   "id": "b347fe1d",
   "metadata": {},
   "source": [
    "### Executando as queries do Hive usando o PySpark"
   ]
  },
  {
   "cell_type": "markdown",
   "id": "2fc54d1e",
   "metadata": {},
   "source": [
    "### Criando TempViews dos dataframes para acessa-los em forma de tabelas"
   ]
  },
  {
   "cell_type": "code",
   "execution_count": 70,
   "id": "9168996b",
   "metadata": {},
   "outputs": [],
   "source": [
    "df_digimon.createOrReplaceTempView(\"stg_digimon\")\n",
    "df_digivolutions.createOrReplaceTempView(\"stg_digivolutions\")\n",
    "df_skills.createOrReplaceTempView(\"stg_skills\")\n",
    "df_skills_by.createOrReplaceTempView(\"stg_skills_by_digimon\")"
   ]
  },
  {
   "cell_type": "markdown",
   "id": "b6d91ca8",
   "metadata": {},
   "source": [
    "### Fazendo as análises utilizando PySpark"
   ]
  },
  {
   "cell_type": "code",
   "execution_count": 32,
   "id": "6ea1cf61",
   "metadata": {},
   "outputs": [
    {
     "name": "stdout",
     "output_type": "stream",
     "text": [
      "+-----------+\n",
      "|qt_digimons|\n",
      "+-----------+\n",
      "|        341|\n",
      "+-----------+\n",
      "\n"
     ]
    }
   ],
   "source": [
    "# Quantos digimons existem no dataset?\n",
    "r1 = spark.sql(\"SELECT count(*) AS qt_digimons FROM stg_digimon\")\n",
    "\n",
    "r1.show()"
   ]
  },
  {
   "cell_type": "code",
   "execution_count": 34,
   "id": "c7d31907",
   "metadata": {},
   "outputs": [
    {
     "name": "stdout",
     "output_type": "stream",
     "text": [
      "+-----------+-----------+\n",
      "|      Stage|qt_digimons|\n",
      "+-----------+-----------+\n",
      "|   Ultimate|         78|\n",
      "|       None|          2|\n",
      "|       Baby|          5|\n",
      "|      Ultra|         14|\n",
      "|     Rookie|         50|\n",
      "|   Champion|         79|\n",
      "|      Armor|          3|\n",
      "|       Mega|         98|\n",
      "|In-Training|         12|\n",
      "+-----------+-----------+\n",
      "\n"
     ]
    }
   ],
   "source": [
    "# Quantos digimons existem por estágio?\n",
    "r2 = spark.sql(\"SELECT Stage, count(*) AS qt_digimons FROM stg_digimon GROUP BY Stage\")\n",
    "\n",
    "r2.show()"
   ]
  },
  {
   "cell_type": "code",
   "execution_count": 56,
   "id": "961215d0",
   "metadata": {},
   "outputs": [
    {
     "name": "stdout",
     "output_type": "stream",
     "text": [
      "+---------------+----------------+\n",
      "|Digivolves_from|qt_digivolutions|\n",
      "+---------------+----------------+\n",
      "|         Impmon|               6|\n",
      "|        Patamon|               6|\n",
      "|        Hackmon|               6|\n",
      "|       Solarmon|               6|\n",
      "|      ToyAgumon|               6|\n",
      "|        Guilmon|               6|\n",
      "|       Otamamon|               6|\n",
      "|        Bakemon|               6|\n",
      "|   Agumon (Blk)|               6|\n",
      "|       Tsunomon|               6|\n",
      "|         Agumon|               6|\n",
      "|        Renamon|               6|\n",
      "|        Wormmon|               6|\n",
      "|     Gigadramon|               6|\n",
      "|      Birdramon|               6|\n",
      "|        Koromon|               6|\n",
      "|        Gabumon|               6|\n",
      "|        Meramon|               6|\n",
      "|        Elecmon|               6|\n",
      "|         Gaomon|               6|\n",
      "|         Palmon|               6|\n",
      "|       Goblimon|               6|\n",
      "|       Gotsumon|               6|\n",
      "|         Lopmon|               6|\n",
      "|        Betamon|               6|\n",
      "|         Veemon|               6|\n",
      "|        Salamon|               6|\n",
      "|        Gazimon|               6|\n",
      "|        Gomamon|               6|\n",
      "|   Armadillomon|               6|\n",
      "+---------------+----------------+\n",
      "only showing top 30 rows\n",
      "\n"
     ]
    }
   ],
   "source": [
    "# Qual Digimon possui mais evoluções diferentes?\n",
    "r3 = spark.sql(\"SELECT Digivolves_from, count(*) AS qt_digivolutions FROM stg_digivolutions GROUP BY Digivolves_from ORDER BY qt_digivolutions DESC\")\n",
    "\n",
    "r3.show(20)"
   ]
  },
  {
   "cell_type": "markdown",
   "id": "929bb531",
   "metadata": {},
   "source": [
    "### Resposta: Podemos observar que vários digimons empatam com o número máximo de 6 evoluções."
   ]
  },
  {
   "cell_type": "code",
   "execution_count": 61,
   "id": "9586c64c",
   "metadata": {},
   "outputs": [
    {
     "name": "stdout",
     "output_type": "stream",
     "text": [
      "+---------------+---------+\n",
      "|        Digimon|HP_lvl_99|\n",
      "+---------------+---------+\n",
      "|      Gankoomon|     2670|\n",
      "|  ShogunGekomon|     2620|\n",
      "|ShineGreymon BM|     2570|\n",
      "|        Titamon|     2570|\n",
      "|   ShineGreymon|     2470|\n",
      "+---------------+---------+\n",
      "\n"
     ]
    }
   ],
   "source": [
    "# Top 5 digimons com o maior valor em HP\n",
    "r4 = spark.sql(\"SELECT Digimon, HP_lvl_99 FROM stg_digimon GROUP BY Digimon, HP_lvl_99 ORDER BY HP_lvl_99 DESC LIMIT 5\")\n",
    "\n",
    "r4.show()"
   ]
  },
  {
   "cell_type": "code",
   "execution_count": 63,
   "id": "b75dd68c",
   "metadata": {},
   "outputs": [
    {
     "name": "stdout",
     "output_type": "stream",
     "text": [
      "+------------+----------+\n",
      "|     Digimon|ATK_lvl_99|\n",
      "+------------+----------+\n",
      "|    Chaosmon|       382|\n",
      "|Armageddemon|       319|\n",
      "|Belphemon RM|       311|\n",
      "|  Diaboromon|       307|\n",
      "| Chaosmon VA|       303|\n",
      "+------------+----------+\n",
      "\n"
     ]
    }
   ],
   "source": [
    "# Top 5 digimons com o maior valor em ATK\n",
    "r5 = spark.sql(\"SELECT Digimon, ATK_lvl_99 FROM stg_digimon GROUP BY Digimon, ATK_lvl_99 ORDER BY ATK_lvl_99 DESC LIMIT 5\")\n",
    "\n",
    "r5.show()"
   ]
  },
  {
   "cell_type": "code",
   "execution_count": 64,
   "id": "b66f414c",
   "metadata": {},
   "outputs": [
    {
     "name": "stdout",
     "output_type": "stream",
     "text": [
      "+---------------+----------+\n",
      "|        Digimon|DEF_lvl_99|\n",
      "+---------------+----------+\n",
      "|PlatinumNumemon|       999|\n",
      "|PlatinumSukamon|       999|\n",
      "|  GroundLocomon|       277|\n",
      "|       Magnamon|       272|\n",
      "|      Craniamon|       272|\n",
      "+---------------+----------+\n",
      "\n"
     ]
    }
   ],
   "source": [
    "# Top 5 digimons com o maior valor em DEF\n",
    "r6 = spark.sql(\"SELECT Digimon, DEF_lvl_99 FROM stg_digimon GROUP BY Digimon, DEF_lvl_99 ORDER BY DEF_lvl_99 DESC LIMIT 5\")\n",
    "\n",
    "r6.show()"
   ]
  },
  {
   "cell_type": "code",
   "execution_count": 65,
   "id": "6d7a9c4a",
   "metadata": {},
   "outputs": [
    {
     "name": "stdout",
     "output_type": "stream",
     "text": [
      "+-------------------+----------+\n",
      "|            Digimon|SPD_lvl_99|\n",
      "+-------------------+----------+\n",
      "|      Leopardmon LM|       282|\n",
      "|MagnaGarurumon (SV)|       282|\n",
      "|         Ravemon BM|       277|\n",
      "|            Ravemon|       267|\n",
      "|   UlforceVeedramon|       257|\n",
      "+-------------------+----------+\n",
      "\n"
     ]
    }
   ],
   "source": [
    "# Top 5 digimons com o maior valor em SPD\n",
    "r7 = spark.sql(\"SELECT Digimon, SPD_lvl_99 FROM stg_digimon GROUP BY Digimon, SPD_lvl_99 ORDER BY SPD_lvl_99 DESC LIMIT 5\")\n",
    "\n",
    "r7.show()"
   ]
  },
  {
   "cell_type": "code",
   "execution_count": 66,
   "id": "98efd52a",
   "metadata": {},
   "outputs": [
    {
     "name": "stdout",
     "output_type": "stream",
     "text": [
      "+-----------------+------+\n",
      "|          Digimon|Memory|\n",
      "+-----------------+------+\n",
      "|    Leopardmon LM|    25|\n",
      "|Alphamon Ouryuken|    25|\n",
      "|     Beelzemon BM|    25|\n",
      "|     Armageddemon|    25|\n",
      "| Arcadiamon Ultra|    25|\n",
      "+-----------------+------+\n",
      "\n"
     ]
    }
   ],
   "source": [
    "# Top 5 digimons que ocupam a maior quantidade de memória\n",
    "r8 = spark.sql(\"SELECT Digimon, Memory FROM stg_digimon ORDER BY Memory DESC LIMIT 5\")\n",
    "\n",
    "r8.show()"
   ]
  },
  {
   "cell_type": "code",
   "execution_count": 71,
   "id": "9a784150",
   "metadata": {},
   "outputs": [
    {
     "name": "stdout",
     "output_type": "stream",
     "text": [
      "+--------------------+\n",
      "|               Skill|\n",
      "+--------------------+\n",
      "|Protect Wave (Awake)|\n",
      "+--------------------+\n",
      "\n"
     ]
    }
   ],
   "source": [
    "# Qual técnica custa a maior quantidade de energia (SP)?\n",
    "r9 = spark.sql(\"SELECT Skill FROM stg_skills ORDER BY SP_Cost DESC LIMIT 1\")\n",
    "\n",
    "r9.show()"
   ]
  },
  {
   "cell_type": "code",
   "execution_count": 73,
   "id": "76553e45",
   "metadata": {},
   "outputs": [
    {
     "name": "stdout",
     "output_type": "stream",
     "text": [
      "+--------------------+\n",
      "|             Digimon|\n",
      "+--------------------+\n",
      "|Sistermon B (Awake.)|\n",
      "+--------------------+\n",
      "\n"
     ]
    }
   ],
   "source": [
    "# Quais digimons podem aprendê-la?\n",
    "r10 = spark.sql(\"\"\"\n",
    "SELECT dg.Digimon FROM stg_digimon dg\n",
    "INNER JOIN stg_skills_by_digimon skd\n",
    "ON skd.Number = dg.Number\n",
    "WHERE skd.Skill = 'Protect Wave (Awake)'\n",
    "\"\"\")\n",
    "\n",
    "r10.show()"
   ]
  },
  {
   "cell_type": "code",
   "execution_count": 74,
   "id": "607609f4",
   "metadata": {},
   "outputs": [
    {
     "name": "stdout",
     "output_type": "stream",
     "text": [
      "+----------------+-----+\n",
      "|           Skill|Power|\n",
      "+----------------+-----+\n",
      "|  Atomic Blaster|  250|\n",
      "|  Dragon Impulse|  250|\n",
      "|Divine Atonement|  200|\n",
      "+----------------+-----+\n",
      "\n"
     ]
    }
   ],
   "source": [
    "# Top 3 técnicas mais fortes considerando o valor de poder (Power)\n",
    "r11 = spark.sql(\"SELECT Skill, Power FROM stg_skills ORDER BY Power DESC LIMIT 3\")\n",
    "\n",
    "r11.show()"
   ]
  },
  {
   "cell_type": "markdown",
   "id": "8d67cfb7",
   "metadata": {},
   "source": [
    "### Análises usando as funções do PySpark vistas em aula"
   ]
  },
  {
   "cell_type": "code",
   "execution_count": null,
   "id": "f5ce9ae3",
   "metadata": {},
   "outputs": [],
   "source": []
  }
 ],
 "metadata": {
  "kernelspec": {
   "display_name": "Python 3",
   "language": "python",
   "name": "python3"
  },
  "language_info": {
   "codemirror_mode": {
    "name": "ipython",
    "version": 3
   },
   "file_extension": ".py",
   "mimetype": "text/x-python",
   "name": "python",
   "nbconvert_exporter": "python",
   "pygments_lexer": "ipython3",
   "version": "3.8.8"
  }
 },
 "nbformat": 4,
 "nbformat_minor": 5
}
