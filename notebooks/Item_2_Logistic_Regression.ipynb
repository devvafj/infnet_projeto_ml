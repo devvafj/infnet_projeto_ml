{
 "cells": [
  {
   "cell_type": "markdown",
   "id": "52a00e04",
   "metadata": {},
   "source": [
    "### Instalando e importando bibliotecas"
   ]
  },
  {
   "cell_type": "code",
   "execution_count": 2,
   "id": "1f7a2a56",
   "metadata": {},
   "outputs": [
    {
     "name": "stdout",
     "output_type": "stream",
     "text": [
      "Requirement already satisfied: pyspark in c:\\users\\vandinho\\anaconda3\\lib\\site-packages (3.5.0)\n",
      "Requirement already satisfied: py4j==0.10.9.7 in c:\\users\\vandinho\\anaconda3\\lib\\site-packages (from pyspark) (0.10.9.7)\n"
     ]
    }
   ],
   "source": [
    "!pip install pyspark"
   ]
  },
  {
   "cell_type": "code",
   "execution_count": 67,
   "id": "8b89c842",
   "metadata": {},
   "outputs": [],
   "source": [
    "from pyspark.sql import SparkSession\n",
    "from pyspark.sql.functions import *\n",
    "from pyspark.ml.feature import OneHotEncoder, StringIndexer, VectorAssembler\n",
    "from pyspark.ml import Pipeline\n",
    "from pyspark.ml.classification import LogisticRegression\n",
    "from pyspark.ml.evaluation import BinaryClassificationEvaluator\n",
    "\n",
    "import pandas as pd\n",
    "import matplotlib.pyplot as plt\n",
    "import numpy as np"
   ]
  },
  {
   "cell_type": "code",
   "execution_count": 4,
   "id": "afb367a2",
   "metadata": {},
   "outputs": [],
   "source": [
    "spark = SparkSession.builder.appName(\"Logistic_Regression\").getOrCreate()"
   ]
  },
  {
   "cell_type": "markdown",
   "id": "dd8a57e7",
   "metadata": {},
   "source": [
    "### Carregando o arquivo csv de origem"
   ]
  },
  {
   "cell_type": "code",
   "execution_count": null,
   "id": "a4071fd8",
   "metadata": {},
   "outputs": [],
   "source": [
    "input_path=\"C:\\\\Users\\\\Vandinho\\\\Documents\\\\Tecnologia\\\\Pos_BigData\\\\8_Analise_Spark\\\\infnet_projeto_ml\\\\data\"\n",
    "dataset_file = \"bank.csv\""
   ]
  },
  {
   "cell_type": "code",
   "execution_count": 40,
   "id": "53c2d6fb",
   "metadata": {},
   "outputs": [
    {
     "name": "stdout",
     "output_type": "stream",
     "text": [
      "+---+----------+--------+---------+-------+-------+-------+----+-------+---+-----+--------+--------+-----+--------+--------+-------+\n",
      "|age|       job| marital|education|default|balance|housing|loan|contact|day|month|duration|campaign|pdays|previous|poutcome|deposit|\n",
      "+---+----------+--------+---------+-------+-------+-------+----+-------+---+-----+--------+--------+-----+--------+--------+-------+\n",
      "| 59|    admin.| married|secondary|     no|   2343|    yes|  no|unknown|  5|  may|    1042|       1|   -1|       0| unknown|    yes|\n",
      "| 56|    admin.| married|secondary|     no|     45|     no|  no|unknown|  5|  may|    1467|       1|   -1|       0| unknown|    yes|\n",
      "| 41|technician| married|secondary|     no|   1270|    yes|  no|unknown|  5|  may|    1389|       1|   -1|       0| unknown|    yes|\n",
      "| 55|  services| married|secondary|     no|   2476|    yes|  no|unknown|  5|  may|     579|       1|   -1|       0| unknown|    yes|\n",
      "| 54|    admin.| married| tertiary|     no|    184|     no|  no|unknown|  5|  may|     673|       2|   -1|       0| unknown|    yes|\n",
      "| 42|management|  single| tertiary|     no|      0|    yes| yes|unknown|  5|  may|     562|       2|   -1|       0| unknown|    yes|\n",
      "| 56|management| married| tertiary|     no|    830|    yes| yes|unknown|  6|  may|    1201|       1|   -1|       0| unknown|    yes|\n",
      "| 60|   retired|divorced|secondary|     no|    545|    yes|  no|unknown|  6|  may|    1030|       1|   -1|       0| unknown|    yes|\n",
      "| 37|technician| married|secondary|     no|      1|    yes|  no|unknown|  6|  may|     608|       1|   -1|       0| unknown|    yes|\n",
      "| 28|  services|  single|secondary|     no|   5090|    yes|  no|unknown|  6|  may|    1297|       3|   -1|       0| unknown|    yes|\n",
      "+---+----------+--------+---------+-------+-------+-------+----+-------+---+-----+--------+--------+-----+--------+--------+-------+\n",
      "only showing top 10 rows\n",
      "\n"
     ]
    }
   ],
   "source": [
    "df = spark.read.csv(f'{input_path}\\\\{dataset_file}', header = True, inferSchema = True)\n",
    "df.show(10)"
   ]
  },
  {
   "cell_type": "markdown",
   "id": "4c4612c0",
   "metadata": {},
   "source": [
    "### Verificando o esquema dos dados inferido"
   ]
  },
  {
   "cell_type": "code",
   "execution_count": 41,
   "id": "f4d73474",
   "metadata": {},
   "outputs": [
    {
     "name": "stdout",
     "output_type": "stream",
     "text": [
      "root\n",
      " |-- age: integer (nullable = true)\n",
      " |-- job: string (nullable = true)\n",
      " |-- marital: string (nullable = true)\n",
      " |-- education: string (nullable = true)\n",
      " |-- default: string (nullable = true)\n",
      " |-- balance: integer (nullable = true)\n",
      " |-- housing: string (nullable = true)\n",
      " |-- loan: string (nullable = true)\n",
      " |-- contact: string (nullable = true)\n",
      " |-- day: integer (nullable = true)\n",
      " |-- month: string (nullable = true)\n",
      " |-- duration: integer (nullable = true)\n",
      " |-- campaign: integer (nullable = true)\n",
      " |-- pdays: integer (nullable = true)\n",
      " |-- previous: integer (nullable = true)\n",
      " |-- poutcome: string (nullable = true)\n",
      " |-- deposit: string (nullable = true)\n",
      "\n"
     ]
    }
   ],
   "source": [
    "df.printSchema()"
   ]
  },
  {
   "cell_type": "markdown",
   "id": "a2be0597",
   "metadata": {},
   "source": [
    "### Tratamentos e análise exploratória"
   ]
  },
  {
   "cell_type": "code",
   "execution_count": 42,
   "id": "666adcb2",
   "metadata": {},
   "outputs": [
    {
     "data": {
      "text/html": [
       "<div>\n",
       "<style scoped>\n",
       "    .dataframe tbody tr th:only-of-type {\n",
       "        vertical-align: middle;\n",
       "    }\n",
       "\n",
       "    .dataframe tbody tr th {\n",
       "        vertical-align: top;\n",
       "    }\n",
       "\n",
       "    .dataframe thead th {\n",
       "        text-align: right;\n",
       "    }\n",
       "</style>\n",
       "<table border=\"1\" class=\"dataframe\">\n",
       "  <thead>\n",
       "    <tr style=\"text-align: right;\">\n",
       "      <th></th>\n",
       "      <th>0</th>\n",
       "      <th>1</th>\n",
       "      <th>2</th>\n",
       "      <th>3</th>\n",
       "      <th>4</th>\n",
       "    </tr>\n",
       "  </thead>\n",
       "  <tbody>\n",
       "    <tr>\n",
       "      <th>age</th>\n",
       "      <td>59</td>\n",
       "      <td>56</td>\n",
       "      <td>41</td>\n",
       "      <td>55</td>\n",
       "      <td>54</td>\n",
       "    </tr>\n",
       "    <tr>\n",
       "      <th>job</th>\n",
       "      <td>admin.</td>\n",
       "      <td>admin.</td>\n",
       "      <td>technician</td>\n",
       "      <td>services</td>\n",
       "      <td>admin.</td>\n",
       "    </tr>\n",
       "    <tr>\n",
       "      <th>marital</th>\n",
       "      <td>married</td>\n",
       "      <td>married</td>\n",
       "      <td>married</td>\n",
       "      <td>married</td>\n",
       "      <td>married</td>\n",
       "    </tr>\n",
       "    <tr>\n",
       "      <th>education</th>\n",
       "      <td>secondary</td>\n",
       "      <td>secondary</td>\n",
       "      <td>secondary</td>\n",
       "      <td>secondary</td>\n",
       "      <td>tertiary</td>\n",
       "    </tr>\n",
       "    <tr>\n",
       "      <th>default</th>\n",
       "      <td>no</td>\n",
       "      <td>no</td>\n",
       "      <td>no</td>\n",
       "      <td>no</td>\n",
       "      <td>no</td>\n",
       "    </tr>\n",
       "    <tr>\n",
       "      <th>balance</th>\n",
       "      <td>2343</td>\n",
       "      <td>45</td>\n",
       "      <td>1270</td>\n",
       "      <td>2476</td>\n",
       "      <td>184</td>\n",
       "    </tr>\n",
       "    <tr>\n",
       "      <th>housing</th>\n",
       "      <td>yes</td>\n",
       "      <td>no</td>\n",
       "      <td>yes</td>\n",
       "      <td>yes</td>\n",
       "      <td>no</td>\n",
       "    </tr>\n",
       "    <tr>\n",
       "      <th>loan</th>\n",
       "      <td>no</td>\n",
       "      <td>no</td>\n",
       "      <td>no</td>\n",
       "      <td>no</td>\n",
       "      <td>no</td>\n",
       "    </tr>\n",
       "    <tr>\n",
       "      <th>contact</th>\n",
       "      <td>unknown</td>\n",
       "      <td>unknown</td>\n",
       "      <td>unknown</td>\n",
       "      <td>unknown</td>\n",
       "      <td>unknown</td>\n",
       "    </tr>\n",
       "    <tr>\n",
       "      <th>day</th>\n",
       "      <td>5</td>\n",
       "      <td>5</td>\n",
       "      <td>5</td>\n",
       "      <td>5</td>\n",
       "      <td>5</td>\n",
       "    </tr>\n",
       "    <tr>\n",
       "      <th>month</th>\n",
       "      <td>may</td>\n",
       "      <td>may</td>\n",
       "      <td>may</td>\n",
       "      <td>may</td>\n",
       "      <td>may</td>\n",
       "    </tr>\n",
       "    <tr>\n",
       "      <th>duration</th>\n",
       "      <td>1042</td>\n",
       "      <td>1467</td>\n",
       "      <td>1389</td>\n",
       "      <td>579</td>\n",
       "      <td>673</td>\n",
       "    </tr>\n",
       "    <tr>\n",
       "      <th>campaign</th>\n",
       "      <td>1</td>\n",
       "      <td>1</td>\n",
       "      <td>1</td>\n",
       "      <td>1</td>\n",
       "      <td>2</td>\n",
       "    </tr>\n",
       "    <tr>\n",
       "      <th>pdays</th>\n",
       "      <td>-1</td>\n",
       "      <td>-1</td>\n",
       "      <td>-1</td>\n",
       "      <td>-1</td>\n",
       "      <td>-1</td>\n",
       "    </tr>\n",
       "    <tr>\n",
       "      <th>previous</th>\n",
       "      <td>0</td>\n",
       "      <td>0</td>\n",
       "      <td>0</td>\n",
       "      <td>0</td>\n",
       "      <td>0</td>\n",
       "    </tr>\n",
       "    <tr>\n",
       "      <th>poutcome</th>\n",
       "      <td>unknown</td>\n",
       "      <td>unknown</td>\n",
       "      <td>unknown</td>\n",
       "      <td>unknown</td>\n",
       "      <td>unknown</td>\n",
       "    </tr>\n",
       "    <tr>\n",
       "      <th>deposit</th>\n",
       "      <td>yes</td>\n",
       "      <td>yes</td>\n",
       "      <td>yes</td>\n",
       "      <td>yes</td>\n",
       "      <td>yes</td>\n",
       "    </tr>\n",
       "  </tbody>\n",
       "</table>\n",
       "</div>"
      ],
      "text/plain": [
       "                   0          1           2          3         4\n",
       "age               59         56          41         55        54\n",
       "job           admin.     admin.  technician   services    admin.\n",
       "marital      married    married     married    married   married\n",
       "education  secondary  secondary   secondary  secondary  tertiary\n",
       "default           no         no          no         no        no\n",
       "balance         2343         45        1270       2476       184\n",
       "housing          yes         no         yes        yes        no\n",
       "loan              no         no          no         no        no\n",
       "contact      unknown    unknown     unknown    unknown   unknown\n",
       "day                5          5           5          5         5\n",
       "month            may        may         may        may       may\n",
       "duration        1042       1467        1389        579       673\n",
       "campaign           1          1           1          1         2\n",
       "pdays             -1         -1          -1         -1        -1\n",
       "previous           0          0           0          0         0\n",
       "poutcome     unknown    unknown     unknown    unknown   unknown\n",
       "deposit          yes        yes         yes        yes       yes"
      ]
     },
     "execution_count": 42,
     "metadata": {},
     "output_type": "execute_result"
    }
   ],
   "source": [
    "# Invertendo linhas com as colunas para melhor visualização das features\n",
    "pd.DataFrame(df.take(5), columns=df.columns).transpose()"
   ]
  },
  {
   "cell_type": "code",
   "execution_count": 43,
   "id": "69f03465",
   "metadata": {},
   "outputs": [
    {
     "data": {
      "text/html": [
       "<div>\n",
       "<style scoped>\n",
       "    .dataframe tbody tr th:only-of-type {\n",
       "        vertical-align: middle;\n",
       "    }\n",
       "\n",
       "    .dataframe tbody tr th {\n",
       "        vertical-align: top;\n",
       "    }\n",
       "\n",
       "    .dataframe thead th {\n",
       "        text-align: right;\n",
       "    }\n",
       "</style>\n",
       "<table border=\"1\" class=\"dataframe\">\n",
       "  <thead>\n",
       "    <tr style=\"text-align: right;\">\n",
       "      <th></th>\n",
       "      <th>0</th>\n",
       "      <th>1</th>\n",
       "      <th>2</th>\n",
       "      <th>3</th>\n",
       "      <th>4</th>\n",
       "    </tr>\n",
       "  </thead>\n",
       "  <tbody>\n",
       "    <tr>\n",
       "      <th>summary</th>\n",
       "      <td>count</td>\n",
       "      <td>mean</td>\n",
       "      <td>stddev</td>\n",
       "      <td>min</td>\n",
       "      <td>max</td>\n",
       "    </tr>\n",
       "    <tr>\n",
       "      <th>age</th>\n",
       "      <td>11162</td>\n",
       "      <td>41.231947679627304</td>\n",
       "      <td>11.913369192215518</td>\n",
       "      <td>18</td>\n",
       "      <td>95</td>\n",
       "    </tr>\n",
       "    <tr>\n",
       "      <th>balance</th>\n",
       "      <td>11162</td>\n",
       "      <td>1528.5385235620856</td>\n",
       "      <td>3225.413325946149</td>\n",
       "      <td>-6847</td>\n",
       "      <td>81204</td>\n",
       "    </tr>\n",
       "    <tr>\n",
       "      <th>day</th>\n",
       "      <td>11162</td>\n",
       "      <td>15.658036194230425</td>\n",
       "      <td>8.420739541006462</td>\n",
       "      <td>1</td>\n",
       "      <td>31</td>\n",
       "    </tr>\n",
       "    <tr>\n",
       "      <th>duration</th>\n",
       "      <td>11162</td>\n",
       "      <td>371.99381831213043</td>\n",
       "      <td>347.12838571630687</td>\n",
       "      <td>2</td>\n",
       "      <td>3881</td>\n",
       "    </tr>\n",
       "    <tr>\n",
       "      <th>campaign</th>\n",
       "      <td>11162</td>\n",
       "      <td>2.508421429851281</td>\n",
       "      <td>2.7220771816614824</td>\n",
       "      <td>1</td>\n",
       "      <td>63</td>\n",
       "    </tr>\n",
       "    <tr>\n",
       "      <th>pdays</th>\n",
       "      <td>11162</td>\n",
       "      <td>51.33040673714388</td>\n",
       "      <td>108.75828197197717</td>\n",
       "      <td>-1</td>\n",
       "      <td>854</td>\n",
       "    </tr>\n",
       "    <tr>\n",
       "      <th>previous</th>\n",
       "      <td>11162</td>\n",
       "      <td>0.8325568894463358</td>\n",
       "      <td>2.292007218670508</td>\n",
       "      <td>0</td>\n",
       "      <td>58</td>\n",
       "    </tr>\n",
       "  </tbody>\n",
       "</table>\n",
       "</div>"
      ],
      "text/plain": [
       "              0                   1                   2      3      4\n",
       "summary   count                mean              stddev    min    max\n",
       "age       11162  41.231947679627304  11.913369192215518     18     95\n",
       "balance   11162  1528.5385235620856   3225.413325946149  -6847  81204\n",
       "day       11162  15.658036194230425   8.420739541006462      1     31\n",
       "duration  11162  371.99381831213043  347.12838571630687      2   3881\n",
       "campaign  11162   2.508421429851281  2.7220771816614824      1     63\n",
       "pdays     11162   51.33040673714388  108.75828197197717     -1    854\n",
       "previous  11162  0.8325568894463358   2.292007218670508      0     58"
      ]
     },
     "execution_count": 43,
     "metadata": {},
     "output_type": "execute_result"
    }
   ],
   "source": [
    "# Trazendo o resumo estatístico: \n",
    "# Count de linhas, media por coluna, desvio padrão, valor mínimo e máximo na coluna\n",
    "\n",
    "features = [f[0] for f in df.dtypes if f[1] == 'int']\n",
    "df.select(features).describe().toPandas().transpose()"
   ]
  },
  {
   "cell_type": "code",
   "execution_count": 44,
   "id": "81d13f66",
   "metadata": {},
   "outputs": [
    {
     "name": "stdout",
     "output_type": "stream",
     "text": [
      "root\n",
      " |-- age: integer (nullable = true)\n",
      " |-- job: string (nullable = true)\n",
      " |-- marital: string (nullable = true)\n",
      " |-- education: string (nullable = true)\n",
      " |-- default: string (nullable = true)\n",
      " |-- balance: integer (nullable = true)\n",
      " |-- housing: string (nullable = true)\n",
      " |-- loan: string (nullable = true)\n",
      " |-- contact: string (nullable = true)\n",
      " |-- duration: integer (nullable = true)\n",
      " |-- campaign: integer (nullable = true)\n",
      " |-- pdays: integer (nullable = true)\n",
      " |-- previous: integer (nullable = true)\n",
      " |-- poutcome: string (nullable = true)\n",
      " |-- deposit: string (nullable = true)\n",
      "\n"
     ]
    }
   ],
   "source": [
    "# Eliminando colunas que não são tão relevantes para o modelo: day e month\n",
    "cols_to_drop = [\"day\", \"month\"]\n",
    "df = df.drop(*cols_to_drop)\n",
    "cols = df.columns\n",
    "\n",
    "df.printSchema()"
   ]
  },
  {
   "cell_type": "markdown",
   "id": "234527c7",
   "metadata": {},
   "source": [
    "### Preparando o dataset para o processo de aprendizagem "
   ]
  },
  {
   "cell_type": "code",
   "execution_count": 45,
   "id": "48757783",
   "metadata": {},
   "outputs": [],
   "source": [
    "categ_cols = [\"job\", \"marital\", \"education\", \"default\", \"housing\", \"loan\", \"contact\", \"poutcome\"]\n",
    "num_cols = [\"age\", \"balance\", \"duration\", \"campaign\", \"pdays\", \"previous\"]\n",
    "stages = []\n",
    "\n",
    "for col in categ_cols:\n",
    "    stringIndexer = StringIndexer(inputCol = col, outputCol = f\"{col}Index\")\n",
    "    encoder = OneHotEncoder(inputCols=[stringIndexer.getOutputCol()], outputCols=[f\"{col}classVec\"])\n",
    "    stages += [stringIndexer, encoder]\n",
    "    \n",
    "label_stringIdx = StringIndexer(inputCol = \"deposit\", outputCol = \"label\")\n",
    "stages += [label_stringIdx]\n",
    "\n",
    "assemblerInputs = [f\"{c}classVec\" for c in categ_cols] + num_cols\n",
    "assembler = VectorAssembler(inputCols=assemblerInputs, outputCol=\"features\")\n",
    "stages += [assembler]"
   ]
  },
  {
   "cell_type": "code",
   "execution_count": 46,
   "id": "018fa725",
   "metadata": {},
   "outputs": [
    {
     "name": "stdout",
     "output_type": "stream",
     "text": [
      "root\n",
      " |-- label: double (nullable = false)\n",
      " |-- features: vector (nullable = true)\n",
      " |-- age: integer (nullable = true)\n",
      " |-- job: string (nullable = true)\n",
      " |-- marital: string (nullable = true)\n",
      " |-- education: string (nullable = true)\n",
      " |-- default: string (nullable = true)\n",
      " |-- balance: integer (nullable = true)\n",
      " |-- housing: string (nullable = true)\n",
      " |-- loan: string (nullable = true)\n",
      " |-- contact: string (nullable = true)\n",
      " |-- duration: integer (nullable = true)\n",
      " |-- campaign: integer (nullable = true)\n",
      " |-- pdays: integer (nullable = true)\n",
      " |-- previous: integer (nullable = true)\n",
      " |-- poutcome: string (nullable = true)\n",
      " |-- deposit: string (nullable = true)\n",
      "\n"
     ]
    }
   ],
   "source": [
    "pipeline = Pipeline(stages = stages)\n",
    "pipelineModel = pipeline.fit(df)\n",
    "df = pipelineModel.transform(df)\n",
    "\n",
    "selectedCols = [\"label\", \"features\"] + cols\n",
    "df = df.select(selectedCols)\n",
    "df.printSchema()"
   ]
  },
  {
   "cell_type": "code",
   "execution_count": 47,
   "id": "79e03969",
   "metadata": {},
   "outputs": [
    {
     "data": {
      "text/html": [
       "<div>\n",
       "<style scoped>\n",
       "    .dataframe tbody tr th:only-of-type {\n",
       "        vertical-align: middle;\n",
       "    }\n",
       "\n",
       "    .dataframe tbody tr th {\n",
       "        vertical-align: top;\n",
       "    }\n",
       "\n",
       "    .dataframe thead th {\n",
       "        text-align: right;\n",
       "    }\n",
       "</style>\n",
       "<table border=\"1\" class=\"dataframe\">\n",
       "  <thead>\n",
       "    <tr style=\"text-align: right;\">\n",
       "      <th></th>\n",
       "      <th>0</th>\n",
       "      <th>1</th>\n",
       "      <th>2</th>\n",
       "      <th>3</th>\n",
       "      <th>4</th>\n",
       "    </tr>\n",
       "  </thead>\n",
       "  <tbody>\n",
       "    <tr>\n",
       "      <th>label</th>\n",
       "      <td>1.0</td>\n",
       "      <td>1.0</td>\n",
       "      <td>1.0</td>\n",
       "      <td>1.0</td>\n",
       "      <td>1.0</td>\n",
       "    </tr>\n",
       "    <tr>\n",
       "      <th>features</th>\n",
       "      <td>(0.0, 0.0, 0.0, 1.0, 0.0, 0.0, 0.0, 0.0, 0.0, ...</td>\n",
       "      <td>(0.0, 0.0, 0.0, 1.0, 0.0, 0.0, 0.0, 0.0, 0.0, ...</td>\n",
       "      <td>(0.0, 0.0, 1.0, 0.0, 0.0, 0.0, 0.0, 0.0, 0.0, ...</td>\n",
       "      <td>(0.0, 0.0, 0.0, 0.0, 1.0, 0.0, 0.0, 0.0, 0.0, ...</td>\n",
       "      <td>(0.0, 0.0, 0.0, 1.0, 0.0, 0.0, 0.0, 0.0, 0.0, ...</td>\n",
       "    </tr>\n",
       "    <tr>\n",
       "      <th>age</th>\n",
       "      <td>59</td>\n",
       "      <td>56</td>\n",
       "      <td>41</td>\n",
       "      <td>55</td>\n",
       "      <td>54</td>\n",
       "    </tr>\n",
       "    <tr>\n",
       "      <th>job</th>\n",
       "      <td>admin.</td>\n",
       "      <td>admin.</td>\n",
       "      <td>technician</td>\n",
       "      <td>services</td>\n",
       "      <td>admin.</td>\n",
       "    </tr>\n",
       "    <tr>\n",
       "      <th>marital</th>\n",
       "      <td>married</td>\n",
       "      <td>married</td>\n",
       "      <td>married</td>\n",
       "      <td>married</td>\n",
       "      <td>married</td>\n",
       "    </tr>\n",
       "    <tr>\n",
       "      <th>education</th>\n",
       "      <td>secondary</td>\n",
       "      <td>secondary</td>\n",
       "      <td>secondary</td>\n",
       "      <td>secondary</td>\n",
       "      <td>tertiary</td>\n",
       "    </tr>\n",
       "    <tr>\n",
       "      <th>default</th>\n",
       "      <td>no</td>\n",
       "      <td>no</td>\n",
       "      <td>no</td>\n",
       "      <td>no</td>\n",
       "      <td>no</td>\n",
       "    </tr>\n",
       "    <tr>\n",
       "      <th>balance</th>\n",
       "      <td>2343</td>\n",
       "      <td>45</td>\n",
       "      <td>1270</td>\n",
       "      <td>2476</td>\n",
       "      <td>184</td>\n",
       "    </tr>\n",
       "    <tr>\n",
       "      <th>housing</th>\n",
       "      <td>yes</td>\n",
       "      <td>no</td>\n",
       "      <td>yes</td>\n",
       "      <td>yes</td>\n",
       "      <td>no</td>\n",
       "    </tr>\n",
       "    <tr>\n",
       "      <th>loan</th>\n",
       "      <td>no</td>\n",
       "      <td>no</td>\n",
       "      <td>no</td>\n",
       "      <td>no</td>\n",
       "      <td>no</td>\n",
       "    </tr>\n",
       "    <tr>\n",
       "      <th>contact</th>\n",
       "      <td>unknown</td>\n",
       "      <td>unknown</td>\n",
       "      <td>unknown</td>\n",
       "      <td>unknown</td>\n",
       "      <td>unknown</td>\n",
       "    </tr>\n",
       "    <tr>\n",
       "      <th>duration</th>\n",
       "      <td>1042</td>\n",
       "      <td>1467</td>\n",
       "      <td>1389</td>\n",
       "      <td>579</td>\n",
       "      <td>673</td>\n",
       "    </tr>\n",
       "    <tr>\n",
       "      <th>campaign</th>\n",
       "      <td>1</td>\n",
       "      <td>1</td>\n",
       "      <td>1</td>\n",
       "      <td>1</td>\n",
       "      <td>2</td>\n",
       "    </tr>\n",
       "    <tr>\n",
       "      <th>pdays</th>\n",
       "      <td>-1</td>\n",
       "      <td>-1</td>\n",
       "      <td>-1</td>\n",
       "      <td>-1</td>\n",
       "      <td>-1</td>\n",
       "    </tr>\n",
       "    <tr>\n",
       "      <th>previous</th>\n",
       "      <td>0</td>\n",
       "      <td>0</td>\n",
       "      <td>0</td>\n",
       "      <td>0</td>\n",
       "      <td>0</td>\n",
       "    </tr>\n",
       "    <tr>\n",
       "      <th>poutcome</th>\n",
       "      <td>unknown</td>\n",
       "      <td>unknown</td>\n",
       "      <td>unknown</td>\n",
       "      <td>unknown</td>\n",
       "      <td>unknown</td>\n",
       "    </tr>\n",
       "    <tr>\n",
       "      <th>deposit</th>\n",
       "      <td>yes</td>\n",
       "      <td>yes</td>\n",
       "      <td>yes</td>\n",
       "      <td>yes</td>\n",
       "      <td>yes</td>\n",
       "    </tr>\n",
       "  </tbody>\n",
       "</table>\n",
       "</div>"
      ],
      "text/plain": [
       "                                                           0  \\\n",
       "label                                                    1.0   \n",
       "features   (0.0, 0.0, 0.0, 1.0, 0.0, 0.0, 0.0, 0.0, 0.0, ...   \n",
       "age                                                       59   \n",
       "job                                                   admin.   \n",
       "marital                                              married   \n",
       "education                                          secondary   \n",
       "default                                                   no   \n",
       "balance                                                 2343   \n",
       "housing                                                  yes   \n",
       "loan                                                      no   \n",
       "contact                                              unknown   \n",
       "duration                                                1042   \n",
       "campaign                                                   1   \n",
       "pdays                                                     -1   \n",
       "previous                                                   0   \n",
       "poutcome                                             unknown   \n",
       "deposit                                                  yes   \n",
       "\n",
       "                                                           1  \\\n",
       "label                                                    1.0   \n",
       "features   (0.0, 0.0, 0.0, 1.0, 0.0, 0.0, 0.0, 0.0, 0.0, ...   \n",
       "age                                                       56   \n",
       "job                                                   admin.   \n",
       "marital                                              married   \n",
       "education                                          secondary   \n",
       "default                                                   no   \n",
       "balance                                                   45   \n",
       "housing                                                   no   \n",
       "loan                                                      no   \n",
       "contact                                              unknown   \n",
       "duration                                                1467   \n",
       "campaign                                                   1   \n",
       "pdays                                                     -1   \n",
       "previous                                                   0   \n",
       "poutcome                                             unknown   \n",
       "deposit                                                  yes   \n",
       "\n",
       "                                                           2  \\\n",
       "label                                                    1.0   \n",
       "features   (0.0, 0.0, 1.0, 0.0, 0.0, 0.0, 0.0, 0.0, 0.0, ...   \n",
       "age                                                       41   \n",
       "job                                               technician   \n",
       "marital                                              married   \n",
       "education                                          secondary   \n",
       "default                                                   no   \n",
       "balance                                                 1270   \n",
       "housing                                                  yes   \n",
       "loan                                                      no   \n",
       "contact                                              unknown   \n",
       "duration                                                1389   \n",
       "campaign                                                   1   \n",
       "pdays                                                     -1   \n",
       "previous                                                   0   \n",
       "poutcome                                             unknown   \n",
       "deposit                                                  yes   \n",
       "\n",
       "                                                           3  \\\n",
       "label                                                    1.0   \n",
       "features   (0.0, 0.0, 0.0, 0.0, 1.0, 0.0, 0.0, 0.0, 0.0, ...   \n",
       "age                                                       55   \n",
       "job                                                 services   \n",
       "marital                                              married   \n",
       "education                                          secondary   \n",
       "default                                                   no   \n",
       "balance                                                 2476   \n",
       "housing                                                  yes   \n",
       "loan                                                      no   \n",
       "contact                                              unknown   \n",
       "duration                                                 579   \n",
       "campaign                                                   1   \n",
       "pdays                                                     -1   \n",
       "previous                                                   0   \n",
       "poutcome                                             unknown   \n",
       "deposit                                                  yes   \n",
       "\n",
       "                                                           4  \n",
       "label                                                    1.0  \n",
       "features   (0.0, 0.0, 0.0, 1.0, 0.0, 0.0, 0.0, 0.0, 0.0, ...  \n",
       "age                                                       54  \n",
       "job                                                   admin.  \n",
       "marital                                              married  \n",
       "education                                           tertiary  \n",
       "default                                                   no  \n",
       "balance                                                  184  \n",
       "housing                                                   no  \n",
       "loan                                                      no  \n",
       "contact                                              unknown  \n",
       "duration                                                 673  \n",
       "campaign                                                   2  \n",
       "pdays                                                     -1  \n",
       "previous                                                   0  \n",
       "poutcome                                             unknown  \n",
       "deposit                                                  yes  "
      ]
     },
     "execution_count": 47,
     "metadata": {},
     "output_type": "execute_result"
    }
   ],
   "source": [
    "pd.DataFrame(df.take(5), columns=df.columns).transpose()"
   ]
  },
  {
   "cell_type": "markdown",
   "id": "d77ee302",
   "metadata": {},
   "source": [
    "### Divindo o dataset randomicamente em treinamento e teste"
   ]
  },
  {
   "cell_type": "code",
   "execution_count": 53,
   "id": "c6437f32",
   "metadata": {},
   "outputs": [
    {
     "name": "stdout",
     "output_type": "stream",
     "text": [
      "Training Dataset Size: 7855\n",
      "Test Dataset Size: 3307\n"
     ]
    }
   ],
   "source": [
    "# Será dividido em 70% para treinamento e 30% para teste do modelo\n",
    "\n",
    "train, test = df.randomSplit([0.7, 0.3], seed = 2018)\n",
    "print(\"Training Dataset Size: \" + str(train.count()))\n",
    "print(\"Test Dataset Size: \" + str(test.count()))"
   ]
  },
  {
   "cell_type": "markdown",
   "id": "2d9c2214",
   "metadata": {},
   "source": [
    "### Instanciando o modelo e fazendo o treinamento com os 70% do dataset"
   ]
  },
  {
   "cell_type": "code",
   "execution_count": 60,
   "id": "08148ac9",
   "metadata": {},
   "outputs": [],
   "source": [
    "lr = LogisticRegression(featuresCol = \"features\", labelCol = \"label\", maxIter=10)\n",
    "lrModel = lr.fit(train)"
   ]
  },
  {
   "cell_type": "markdown",
   "id": "98c36147",
   "metadata": {},
   "source": [
    "### Obtendo os coeficientes Beta do modelo"
   ]
  },
  {
   "cell_type": "code",
   "execution_count": 61,
   "id": "b61a8cbb",
   "metadata": {},
   "outputs": [
    {
     "data": {
      "image/png": "[encoded data removed]",
      "text/plain": [
       "<Figure size 432x288 with 1 Axes>"
      ]
     },
     "metadata": {
      "needs_background": "light"
     },
     "output_type": "display_data"
    }
   ],
   "source": [
    "# Os coeficientes ficam armazenados como uma propriedade do objeto instanciado do modelo\n",
    "beta = np.sort(lrModel.coefficients)\n",
    "plt.plot(beta)\n",
    "plt.ylabel(\"Beta Coefficients\")\n",
    "plt.show()"
   ]
  },
  {
   "cell_type": "code",
   "execution_count": 63,
   "id": "ba5a5ab0",
   "metadata": {},
   "outputs": [
    {
     "data": {
      "image/png": "[encoded data removed]",
      "text/plain": [
       "<Figure size 432x288 with 1 Axes>"
      ]
     },
     "metadata": {
      "needs_background": "light"
     },
     "output_type": "display_data"
    },
    {
     "name": "stdout",
     "output_type": "stream",
     "text": [
      "Training areaUnderROC: 0.8865478305561797\n"
     ]
    }
   ],
   "source": [
    "trainingSummary = lrModel.summary\n",
    "roc = trainingSummary.roc.toPandas()\n",
    "plt.plot(roc['FPR'],roc['TPR'])\n",
    "\n",
    "plt.ylabel('False Positive Rate')\n",
    "plt.xlabel('True Positive Rate')\n",
    "plt.title('ROC Curve')\n",
    "plt.show()\n",
    "\n",
    "print(f'Training areaUnderROC: {str(trainingSummary.areaUnderROC)}')"
   ]
  },
  {
   "cell_type": "code",
   "execution_count": 64,
   "id": "7626a0f1",
   "metadata": {},
   "outputs": [
    {
     "data": {
      "image/png": "[encoded data removed]",
      "text/plain": [
       "<Figure size 432x288 with 1 Axes>"
      ]
     },
     "metadata": {
      "needs_background": "light"
     },
     "output_type": "display_data"
    }
   ],
   "source": [
    "prec_rec = trainingSummary.pr.toPandas()\n",
    "plt.plot(prec_rec['recall'], prec_rec['precision'])\n",
    "plt.ylabel('Precision')\n",
    "plt.xlabel('Recall')\n",
    "plt.show()"
   ]
  },
  {
   "cell_type": "markdown",
   "id": "94cd7960",
   "metadata": {},
   "source": [
    "### Fazendo previsões com os 30% do dataset separados para teste"
   ]
  },
  {
   "cell_type": "code",
   "execution_count": 66,
   "id": "f7492481",
   "metadata": {},
   "outputs": [
    {
     "name": "stdout",
     "output_type": "stream",
     "text": [
      "+---+----------+-----+--------------------+----------+--------------------+\n",
      "|age|       job|label|       rawPrediction|prediction|         probability|\n",
      "+---+----------+-----+--------------------+----------+--------------------+\n",
      "| 33|management|  0.0|[1.93500470498078...|       0.0|[0.87380233100701...|\n",
      "| 49|management|  0.0|[2.04809361205494...|       0.0|[0.88575484704982...|\n",
      "| 52|management|  0.0|[-0.7002122133357...|       1.0|[0.33176517908283...|\n",
      "| 53|management|  0.0|[1.03431610227355...|       0.0|[0.73775180622517...|\n",
      "| 58|management|  0.0|[2.74273671692568...|       0.0|[0.93950183380104...|\n",
      "| 32|management|  0.0|[1.25033004378243...|       0.0|[0.77735698810450...|\n",
      "| 57|management|  0.0|[1.19540519867322...|       0.0|[0.76770638557283...|\n",
      "| 52|management|  0.0|[3.26456982709638...|       0.0|[0.96319314409492...|\n",
      "| 46|management|  0.0|[2.15036209979034...|       0.0|[0.89570260888977...|\n",
      "| 31|management|  0.0|[1.47751802200863...|       0.0|[0.81419739986183...|\n",
      "| 50|management|  0.0|[-0.8326640864754...|       1.0|[0.30308205794830...|\n",
      "| 40|management|  0.0|[2.81658737535220...|       0.0|[0.94356562056814...|\n",
      "| 34|management|  0.0|[1.31942714998649...|       0.0|[0.78908638341972...|\n",
      "| 35|management|  0.0|[0.50419733186927...|       0.0|[0.62344521158014...|\n",
      "| 46|management|  0.0|[2.70179202538573...|       0.0|[0.93713230448404...|\n",
      "+---+----------+-----+--------------------+----------+--------------------+\n",
      "only showing top 15 rows\n",
      "\n"
     ]
    }
   ],
   "source": [
    "predictions = lrModel.transform(test)\n",
    "predictions.select('age', 'job', 'label', 'rawPrediction', 'prediction', 'probability').show(15)"
   ]
  },
  {
   "cell_type": "markdown",
   "id": "82814926",
   "metadata": {},
   "source": [
    "### Obtendo uma avaliação final do percentual de acerto de classificação do modelo"
   ]
  },
  {
   "cell_type": "code",
   "execution_count": 68,
   "id": "263fdc1a",
   "metadata": {},
   "outputs": [
    {
     "name": "stdout",
     "output_type": "stream",
     "text": [
      "Area Under ROC Evaluation: 0.8837112925002687\n"
     ]
    }
   ],
   "source": [
    "evaluator = BinaryClassificationEvaluator()\n",
    "print(f'Area Under ROC Evaluation: {evaluator.evaluate(predictions)}')"
   ]
  }
 ],
 "metadata": {
  "kernelspec": {
   "display_name": "Python 3",
   "language": "python",
   "name": "python3"
  },
  "language_info": {
   "codemirror_mode": {
    "name": "ipython",
    "version": 3
   },
   "file_extension": ".py",
   "mimetype": "text/x-python",
   "name": "python",
   "nbconvert_exporter": "python",
   "pygments_lexer": "ipython3",
   "version": "3.8.8"
  }
 },
 "nbformat": 4,
 "nbformat_minor": 5
}
